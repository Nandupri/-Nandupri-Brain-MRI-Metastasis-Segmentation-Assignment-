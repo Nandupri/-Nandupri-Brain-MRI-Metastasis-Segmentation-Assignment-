{
 "cells": [
  {
   "cell_type": "markdown",
   "metadata": {},
   "source": [
    "# Exploratory Data Analysis (EDA)\n",
    "This notebook provides an exploratory analysis of the brain MRI dataset for metastasis segmentation."
   ]
  },
  {
   "cell_type": "code",
   "execution_count": 1,
   "metadata": {},
   "outputs": [],
   "source": [
    "# Importing necessary libraries\n",
    "import os\n",
    "import cv2\n",
    "import numpy as np\n",
    "import matplotlib.pyplot as plt\n",
    "import seaborn as sns\n",
    "\n",
    "sns.set(style='whitegrid')"
   ]
  },
  {
   "cell_type": "markdown",
   "metadata": {},
   "source": [
    "## Dataset Overview\n",
    "Let's check the structure of our dataset."
   ]
  },
  {
   "cell_type": "code",
   "execution_count": 2,
   "metadata": {},
   "outputs": [],
   "source": [
    "# Path to the dataset\n",
    "raw_images_dir = 'data/raw/images'\n",
    "raw_masks_dir = 'data/raw/masks'\n",
    "\n",
    "# List the files\n",
    "image_files = os.listdir(raw_images_dir)\n",
    "mask_files = os.listdir(raw_masks_dir)\n",
    "\n",
    "print(f'Number of images: {len(image_files)}')\n",
    "print(f'Number of masks: {len(mask_files)}')"
   ]
  },
  {
   "cell_type": "markdown",
   "metadata": {},
   "source": [
    "## Visualizing Sample Images and Masks\n",
    "Let's visualize some sample images along with their corresponding masks."
   ]
  },
  {
   "cell_type": "code",
   "execution_count": 3,
   "metadata": {},
   "outputs": [],
   "source": [
    "# Function to visualize images and masks\n",
    "def visualize_samples(image_files, mask_files, num_samples=5):\n",
    "    plt.figure(figsize=(15, 10))\n",
    "    for i in range(num_samples):\n",
    "        img_path = os.path.join(raw_images_dir, image_files[i])\n",
    "        mask_path = os.path.join(raw_masks_dir, mask_files[i])\n",
    "        image = cv2.imread(img_path, cv2.IMREAD_GRAYSCALE)\n",
    "        mask = cv2.imread(mask_path, cv2.IMREAD_GRAYSCALE)\n",
    "        plt.subplot(num_samples, 2, 2*i + 1)\n",
    "        plt.imshow(image, cmap='gray')\n",
    "        plt.title('MRI Image')\n",
    "        plt.axis('off')\n",
    "        plt.subplot(num_samples, 2, 2*i + 2)\n",
    "        plt.imshow(mask, cmap='gray')\n",
    "        plt.title('Segmentation Mask')\n",
    "        plt.axis('off')\n",
    "    plt.tight_layout()\n",
    "    plt.show()\n",
    "\n",
    "# Visualizing samples\n",
    "visualize_samples(image_files, mask_files, num_samples=5)"
   ]
  },
  {
   "cell_type": "markdown",
   "metadata": {},
   "source": [
    "## Checking Image and Mask Sizes\n",
    "Understanding the dimensions of the images and masks is crucial for model training."
   ]
  },
  {
   "cell_type": "code",
   "execution_count": 4,
   "metadata": {},
   "outputs": [],
   "source": [
    "# Function to get image sizes\n",
    "def get_image_sizes(image_files):\n",
    "    sizes = []\n",
    "    for img_name in image_files:\n",
    "        img_path = os.path.join(raw_images_dir, img_name)\n",
    "        img = cv2.imread(img_path)\n",
    "        sizes.append(img.shape)\n",
    "    return sizes\n",
    "\n",
    "# Getting sizes\n",
    "image_sizes = get_image_sizes(image_files)\n",
    "sizes_df = pd.DataFrame(image_sizes, columns=['Height', 'Width', 'Channels'])\n",
    "sizes_df.describe()"
   ]
  },
  {
   "cell_type": "markdown",
   "metadata": {},
   "source": [
    "## Visualizing Size Distribution\n",
    "We can plot the distribution of image sizes to see if they are consistent."
   ]
  },
  {
   "cell_type": "code",
   "execution_count": 5,
   "metadata": {},
   "outputs": [],
   "source": [
    "plt.figure(figsize=(10, 5))\n",
    "sns.histplot(sizes_df['Height'], bins=30, kde=True, color='blue', label='Height')\n",
    "sns.histplot(sizes_df['Width'], bins=30, kde=True, color='red', label='Width')\n",
    "plt.title('Distribution of Image Sizes')\n",
    "plt.xlabel('Size (pixels)')\n",
    "plt.ylabel('Frequency')\n",
    "plt.legend()\n",
    "plt.show()"
   ]
  },
  {
   "cell_type": "markdown",
   "metadata": {},
   "source": [
    "## Conclusion\n",
    "This notebook provided an exploratory analysis of the brain MRI dataset for metastasis segmentation. We visualized samples of images and their corresponding masks, checked the number of images and masks, and analyzed the size distribution of the images."
   ]
  }
 ],
 "metadata": {
  "kernelspec": {
   "display_name": "Python 3",
   "language": "python",
   "name": "python3"
  },
  "language_info": {
   "codemirror_mode": {
    "name": "ipython",
    "version": 3
   },
   "file_extension": ".py",
   "mimetype": "text/x-python",
   "name": "python",
   "nbconvert_exporter": "python",
   "pygments_lexer": "ipython3",
   "version": "3.8.5"
  }
 },
 "nbformat": 4,
 "nbformat_minor": 4
}
