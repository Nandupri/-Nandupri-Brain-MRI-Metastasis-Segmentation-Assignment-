{
 "cells": [
  {
   "cell_type": "markdown",
   "metadata": {},
   "source": [
    "# Data Preprocessing\n",
    "This notebook covers the preprocessing steps for the brain MRI dataset, including applying CLAHE, normalization, and augmentation."
   ]
  },
  {
   "cell_type": "code",
   "execution_count": 1,
   "metadata": {},
   "outputs": [],
   "source": [
    "# Importing necessary libraries\n",
    "import os\n",
    "import cv2\n",
    "import numpy as np\n",
    "import matplotlib.pyplot as plt\n",
    "from sklearn.model_selection import train_test_split\n",
    "import glob\n",
    "\n",
    "def show_images(images, titles=None, cols=2):\n",
    "    """Display images in a grid."""\n",
    "    n = len(images)\n",
    "    rows = n // cols + (n % cols > 0)\n",
    "    plt.figure(figsize=(15, 5 * rows))\n",
    "    for i, image in enumerate(images):\n",
    "        plt.subplot(rows, cols, i + 1)\n",
    "        plt.imshow(image, cmap='gray')\n",
    "        if titles:\n",
    "            plt.title(titles[i])\n",
    "        plt.axis('off')\n",
    "    plt.tight_layout()\n",
    "    plt.show()"
   ]
  },
  {
   "cell_type": "markdown",
   "metadata": {},
   "source": [
    "## Dataset Paths\n",
    "Define the paths for the raw images and masks."
   ]
  },
  {
   "cell_type": "code",
   "execution_count": 2,
   "metadata": {},
   "outputs": [],
   "source": [
    "# Paths to the dataset\n",
    "raw_images_dir = 'data/raw/images/'\n",
    "raw_masks_dir = 'data/raw/masks/'\n",
    "processed_images_dir = 'data/processed/images/'\n",
    "processed_masks_dir = 'data/processed/masks/'\n",
    "\n",
    "# Create directories for processed images and masks\n",
    "os.makedirs(processed_images_dir, exist_ok=True)\n",
    "os.makedirs(processed_masks_dir, exist_ok=True)"
   ]
  },
  {
   "cell_type": "markdown",
   "metadata": {},
   "source": [
    "## Data Preprocessing Functions\n",
    "Define functions for preprocessing, including CLAHE, normalization, and augmentation."
   ]
  },
  {
   "cell_type": "code",
   "execution_count": 3,
   "metadata": {},
   "outputs": [],
   "source": [
    "def clahe_preprocess(image):\n",
    "    """Apply CLAHE to enhance contrast."""\n",
    "    clahe = cv2.createCLAHE(clipLimit=2.0, tileGridSize=(8, 8))\n",
    "    return clahe.apply(image)\n",
    "\n",
    "def normalize(image):\n",
    "    """Normalize the image."""\n",
    "    return image / 255.0\n",
    "\n",
    "def augment(image, mask):\n",
    "    """Augment the images and masks."""\n",
    "    if np.random.rand() > 0.5:\n",
    "        image = np.fliplr(image)\n",
    "        mask = np.fliplr(mask)\n",
    "    return image, mask\n",
    "\n",
    "def process_data():\n",
    "    image_files = glob.glob(os.path.join(raw_images_dir, '*.png'))\n",
    "    mask_files = glob.glob(os.path.join(raw_masks_dir, '*.png'))\n",
    "\n",
    "    for img_path in image_files:\n",
    "        img_name = os.path.basename(img_path)\n",
    "        mask_path = os.path.join(raw_masks_dir, img_name)\n",
    "        if not os.path.exists(mask_path):\n",
    "            continue  # Skip if mask does not exist\n",
    "\n",
    "        # Read images\n",
    "        image = cv2.imread(img_path, cv2.IMREAD_GRAYSCALE)\n",
    "        mask = cv2.imread(mask_path, cv2.IMREAD_GRAYSCALE)\n",
    "\n",
    "        # Preprocess image\n",
    "        image = clahe_preprocess(image)\n",
    "        image = normalize(image)\n",
    "        mask = normalize(mask)\n",
    "\n",
    "        # Save processed images\n",
    "        cv2.imwrite(os.path.join(processed_images_dir, img_name), image * 255)\n",
    "        cv2.imwrite(os.path.join(processed_masks_dir, img_name), mask * 255)\n",
    "\n",
    "        # Augmentation\n",
    "        aug_image, aug_mask = augment(image, mask)\n",
    "        aug_img_name = f'aug_{img_name}'\n",
    "        cv2.imwrite(os.path.join(processed_images_dir, aug_img_name), aug_image * 255)\n",
    "        cv2.imwrite(os.path.join(processed_masks_dir, aug_img_name), aug_mask * 255)\n",
    "\n",
    "    print('Data preprocessing complete!')"
   ]
  },
  {
   "cell_type": "markdown",
   "metadata": {},
   "source": [
    "## Run Data Preprocessing\n",
    "Now let's run the data preprocessing function."
   ]
  },
  {
   "cell_type": "code",
   "execution_count": 4,
   "metadata": {},
   "outputs": [],
   "source": [
    "process_data()"
   ]
  },
  {
   "cell_type": "markdown",
   "metadata": {},
   "source": [
    "## Visualizing Processed Samples\n",
    "Let's visualize a few processed images and masks to verify the preprocessing steps."
   ]
  },
  {
   "cell_type": "code",
   "execution_count": 5,
   "metadata": {},
   "outputs": [],
   "source": [
    "# Load processed images and masks\n",
    "processed_images = os.listdir(processed_images_dir)\n",
    "processed_masks = os.listdir(processed_masks_dir)\n",
    "\n",
    "# Visualize samples\n",
    "num_samples = 5\n",
    "sample_images = [cv2.imread(os.path.join(processed_images_dir, processed_images[i]), cv2.IMREAD_GRAYSCALE) for i in range(num_samples)]\n",
    "sample_masks = [cv2.imread(os.path.join(processed_masks_dir, processed_masks[i]), cv2.IMREAD_GRAYSCALE) for i in range(num_samples)]\n",
    "show_images(sample_images + sample_masks, titles=['Image'] * num_samples + ['Mask'] * num_samples, cols=2)"
   ]
  },
  {
   "cell_type": "markdown",
   "metadata": {},
   "source": [
    "## Conclusion\n",
    "In this notebook, we applied CLAHE, normalization, and augmentation to the brain MRI dataset. The processed images and masks are now ready for training."
   ]
  }
 ],
 "metadata": {
  "kernelspec": {
   "display_name": "Python 3",
   "language": "python",
   "name": "python3"
  },
  "language_info": {
   "codemirror_mode": {
    "name": "ipython",
    "version": 3
   },
   "file_extension": ".py",
   "mimetype": "text/x-python",
   "name": "python",
   "nbconvert_exporter": "python",
   "pygments_lexer": "ipython3",
   "version": "3.8.5"
  }
 },
 "nbformat": 4,
 "nbformat_minor": 4
}
